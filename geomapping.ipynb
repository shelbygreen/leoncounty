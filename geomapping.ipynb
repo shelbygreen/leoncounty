{
  "nbformat": 4,
  "nbformat_minor": 0,
  "metadata": {
    "colab": {
      "name": "geomapping.ipynb",
      "provenance": [],
      "mount_file_id": "1ueeVcun2bU249Hv5UBO53SZhuD40eJpz",
      "authorship_tag": "ABX9TyN2vgQGoTq80rLbQqN7xRJR",
      "include_colab_link": true
    },
    "kernelspec": {
      "name": "python3",
      "display_name": "Python 3"
    }
  },
  "cells": [
    {
      "cell_type": "markdown",
      "metadata": {
        "id": "view-in-github",
        "colab_type": "text"
      },
      "source": [
        "<a href=\"https://colab.research.google.com/github/shelbygreen/leoncounty/blob/master/geomapping.ipynb\" target=\"_parent\"><img src=\"https://colab.research.google.com/assets/colab-badge.svg\" alt=\"Open In Colab\"/></a>"
      ]
    },
    {
      "cell_type": "markdown",
      "metadata": {
        "id": "ZOVHR6fU3E2Q",
        "colab_type": "text"
      },
      "source": [
        "Single-use Plastic Regulations (SUPs) Map\n",
        "Workflow:\n",
        "0. Set-up Google Drive API and connect to Google Sheets\n",
        "1. Extract relevant data from Google Sheet and put into a DataFrame\n",
        "2. Further data manipulation/cleaning/processing\n",
        "\n",
        "\n",
        "\n",
        "Resources:\n",
        "1. Connect to Google Sheets\n",
        "https://www.twilio.com/blog/2017/02/an-easy-way-to-read-and-write-to-a-google-spreadsheet-in-python.html\n"
      ]
    },
    {
      "cell_type": "code",
      "metadata": {
        "id": "93jizRbw4zvT",
        "colab_type": "code",
        "outputId": "c8e8f524-cc96-495d-ab53-718d723d0a08",
        "colab": {
          "base_uri": "https://localhost:8080/",
          "height": 34
        }
      },
      "source": [
        "\"\"\"\n",
        "INSTALL: install required libraries: gspread, oauth2client, mapboxgl\n",
        "\"\"\"\n",
        "\n",
        "\"\"\"\n",
        "IMPORT: packages and file\n",
        "\"\"\"\n",
        "#import packages\n",
        "import gspread\n",
        "from oauth2client.service_account import ServiceAccountCredentials\n",
        "import pandas as pd\n",
        "import os\n",
        "from mapboxgl.utils import *\n",
        "from mapboxgl.viz import *\n",
        "from getpass import getpass\n",
        "import json\n",
        "import geopandas as gpd\n",
        "\n",
        "#use credentials to create a client to connect with the Google Drive API\n",
        "scope = ['https://spreadsheets.google.com/feeds',\n",
        "         'https://www.googleapis.com/auth/drive']\n",
        "creds = ServiceAccountCredentials.from_json_keyfile_name('./client_secret.json', scope)\n",
        "client = gspread.authorize(creds)\n",
        "\n",
        "#opens first sheet of the file \n",
        "sheet = client.open_by_key(\"1sVq7eYnQKXtDdW-5ioGtYrwrWGpXa-Bkyqv2HQaBPcU\").get_worksheet(0)\n",
        "\n",
        "#extract info and save as dataframe\n",
        "attributes_df = pd.DataFrame(sheet.get_all_records())\n",
        "\n",
        "#token for mapbox\n",
        "token = getpass('Enter token here')"
      ],
      "execution_count": 0,
      "outputs": [
        {
          "output_type": "stream",
          "text": [
            "Enter token here··········\n"
          ],
          "name": "stdout"
        }
      ]
    },
    {
      "cell_type": "code",
      "metadata": {
        "id": "HIjiGH9QRZ3P",
        "colab_type": "code",
        "colab": {}
      },
      "source": [
        "\"\"\"\n",
        "MANIPULATION: cleaning, filtering, and mapping.\n",
        "\"\"\"\n",
        "#cleaning attributes dataframe\n",
        "attributes_df[\"Locality\"] = [x.split(' County')[0] for x in attributes_df[\"Locality\"]]\n",
        "attributes_df[\"Locality\"][26] = \"Dade\"\n",
        "\n",
        "#importing cities and counties geojson\n",
        "#mapshaper.org and filter the cities geojson (filter '\"...\".indexOf(NAME) > -1')\n",
        "cities_gdf = gpd.read_file('./cities.json')\n",
        "counties_gdf = gpd.read_file('./counties.json').rename(columns = {'COUNTYNAME':'NAME'})\n",
        "\n",
        "#merging cities and counties into one dataframe\n",
        "localities_df = pd.concat([cities_gdf, counties_gdf], join=\"inner\", ignore_index=True)\n",
        "localities_df[\"NAME\"] = localities_df[\"NAME\"].str.title()\n",
        "\n",
        "#merge localities and attributes on name\n",
        "mapped_df = localities_df.merge(attributes_df, left_on=\"NAME\", right_on=\"Locality\")\n",
        "\n",
        "#save df as geoJSON\n",
        "mapped_df.to_file('./mappedregulations.geojson', driver='GeoJSON')\n",
        "\n",
        "\"\"\"\n",
        "for future reference: visualuzation/interactive map using mapbox\n",
        "viz = ChoroplethViz('./mappedregulations.geojson', access_token=token)\n",
        "viz.show()\n",
        "\"\"\""
      ],
      "execution_count": 0,
      "outputs": []
    }
  ]
}